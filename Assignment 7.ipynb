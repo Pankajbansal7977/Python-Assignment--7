{
 "cells": [
  {
   "cell_type": "code",
   "execution_count": 1,
   "id": "5fdddaa8",
   "metadata": {},
   "outputs": [
    {
     "data": {
      "text/plain": [
       "'Q.1. Create two int type variables, apply addition, subtraction, division and multiplications\\nand store the results in variables. Then print the data in the following format by calling the\\nvariables:\\nFirst variable is __ & second variable is __.\\nAddition: __ + __ = __\\nSubtraction: __ - __ = __\\nMultiplication: __ * __ = __\\nDivision: __ / __ = __\\n'"
      ]
     },
     "execution_count": 1,
     "metadata": {},
     "output_type": "execute_result"
    }
   ],
   "source": [
    "'''Q.1. Create two int type variables, apply addition, subtraction, division and multiplications\n",
    "and store the results in variables. Then print the data in the following format by calling the\n",
    "variables:\n",
    "First variable is __ & second variable is __.\n",
    "Addition: __ + __ = __\n",
    "Subtraction: __ - __ = __\n",
    "Multiplication: __ * __ = __\n",
    "Division: __ / __ = __\n",
    "'''"
   ]
  },
  {
   "cell_type": "code",
   "execution_count": 2,
   "id": "dd4cfb2d",
   "metadata": {},
   "outputs": [
    {
     "name": "stdout",
     "output_type": "stream",
     "text": [
      "First variable is 10 & second variable is 5.\n",
      "Addition: 10 + 5 = 15\n",
      "Subtraction: 10 - 5 = 5\n",
      "Multiplication: 10 * 5 = 50\n",
      "Division: 10 / 5 = 2.0\n"
     ]
    }
   ],
   "source": [
    "# Create variables\n",
    "first_variable = 10\n",
    "second_variable = 5\n",
    "\n",
    "# Perform calculations\n",
    "addition = first_variable + second_variable\n",
    "subtraction = first_variable - second_variable\n",
    "multiplication = first_variable * second_variable\n",
    "division = first_variable / second_variable\n",
    "\n",
    "# Print the results\n",
    "print(f\"First variable is {first_variable} & second variable is {second_variable}.\")\n",
    "print(f\"Addition: {first_variable} + {second_variable} = {addition}\")\n",
    "print(f\"Subtraction: {first_variable} - {second_variable} = {subtraction}\")\n",
    "print(f\"Multiplication: {first_variable} * {second_variable} = {multiplication}\")\n",
    "print(f\"Division: {first_variable} / {second_variable} = {division}\")\n"
   ]
  },
  {
   "cell_type": "code",
   "execution_count": null,
   "id": "8fd220d8",
   "metadata": {},
   "outputs": [],
   "source": [
    "'''Q.2. What is the difference between the following operators:\n",
    "(i) ‘/’ & ‘//’\n",
    "(ii) ‘**’ & ‘^’'''"
   ]
  },
  {
   "cell_type": "code",
   "execution_count": null,
   "id": "a36c6412",
   "metadata": {},
   "outputs": [],
   "source": [
    "\n",
    "# (i) The '/' operator is the division operator in Python, which performs normal division and returns a floating-point result. For example, 10 / 3 would result in 3.33333. On the other hand, the '//' operator is the floor division operator, which performs division and rounds down the result to the nearest whole number. For example, 10 // 3 would result in 3.\n",
    "\n",
    "# (ii) The '**' operator is the exponentiation operator in Python, used to raise a number to a certain power. For example, 2 ** 3 would result in 8, as it calculates 2 raised to the power of 3. However, the '^' operator is not used for exponentiation in Python. In Python, the '^' operator is the bitwise XOR operator, used for performing bitwise exclusive OR operation between two operands."
   ]
  },
  {
   "cell_type": "code",
   "execution_count": null,
   "id": "2ce2192c",
   "metadata": {},
   "outputs": [],
   "source": [
    "# Q.3. List the logical operators."
   ]
  },
  {
   "cell_type": "code",
   "execution_count": 3,
   "id": "7e62a150",
   "metadata": {},
   "outputs": [
    {
     "data": {
      "text/plain": [
       "'AND operator: denoted by and. Returns True if both operands are True, otherwise returns False.\\n\\nOR operator: denoted by or. Returns True if at least one of the operands is True, otherwise returns False.\\n\\nNOT operator: denoted by not. Returns the negation of the operand. If the operand is True, not returns False, and if the operand is False, not returns True.\\n'"
      ]
     },
     "execution_count": 3,
     "metadata": {},
     "output_type": "execute_result"
    }
   ],
   "source": [
    "'''AND operator: denoted by and. Returns True if both operands are True, otherwise returns False.\n",
    "\n",
    "OR operator: denoted by or. Returns True if at least one of the operands is True, otherwise returns False.\n",
    "\n",
    "NOT operator: denoted by not. Returns the negation of the operand. If the operand is True, not returns False, and if the operand is False, not returns True.\n",
    "'''"
   ]
  },
  {
   "cell_type": "code",
   "execution_count": null,
   "id": "29b24756",
   "metadata": {},
   "outputs": [],
   "source": [
    "# Q.4. Explain right shift operator and left shift operator with examples."
   ]
  },
  {
   "cell_type": "code",
   "execution_count": 5,
   "id": "bd01e1de",
   "metadata": {},
   "outputs": [
    {
     "name": "stdout",
     "output_type": "stream",
     "text": [
      "3\n",
      "40\n"
     ]
    }
   ],
   "source": [
    "'''Right Shift Operator (>>):\n",
    "The right shift operator shifts the bits of a number to the right by a specified number of positions. It effectively divides the number by 2 raised to the power of the specified shift amount, discarding any fractional remainders.'''\n",
    "\n",
    "num = 12  # Binary: 1100\n",
    "shift_amount = 2\n",
    "result = num >> shift_amount\n",
    "print(result)\n",
    "\n",
    "'''Left Shift Operator (<<):\n",
    "The left shift operator shifts the bits of a number to the left by a specified number of positions. It effectively multiplies the number by 2 raised to the power of the specified shift amount.'''\n",
    "\n",
    "num = 5  # Binary: 0101\n",
    "shift_amount = 3\n",
    "result = num << shift_amount\n",
    "print(result) "
   ]
  },
  {
   "cell_type": "code",
   "execution_count": 6,
   "id": "42d3871a",
   "metadata": {},
   "outputs": [
    {
     "data": {
      "text/plain": [
       "'Q.5. Create a list containing int type data of length 15. Then write a code to check if 10 is\\npresent in the list or not.'"
      ]
     },
     "execution_count": 6,
     "metadata": {},
     "output_type": "execute_result"
    }
   ],
   "source": [
    "'''Q.5. Create a list containing int type data of length 15. Then write a code to check if 10 is\n",
    "present in the list or not.'''"
   ]
  },
  {
   "cell_type": "code",
   "execution_count": 7,
   "id": "18228ae4",
   "metadata": {},
   "outputs": [
    {
     "name": "stdout",
     "output_type": "stream",
     "text": [
      "10 is present in the list.\n"
     ]
    }
   ],
   "source": [
    "my_list = [2, 5, 8, 10, 12, 15, 18, 20, 22, 25, 28, 30, 32, 35, 38]\n",
    "\n",
    "# Check if 10 is present in the list\n",
    "if 10 in my_list:\n",
    "    print(\"10 is present in the list.\")\n",
    "else:\n",
    "    print(\"10 is not present in the list.\")"
   ]
  },
  {
   "cell_type": "code",
   "execution_count": null,
   "id": "56d0ff05",
   "metadata": {},
   "outputs": [],
   "source": []
  }
 ],
 "metadata": {
  "kernelspec": {
   "display_name": "Python 3 (ipykernel)",
   "language": "python",
   "name": "python3"
  },
  "language_info": {
   "codemirror_mode": {
    "name": "ipython",
    "version": 3
   },
   "file_extension": ".py",
   "mimetype": "text/x-python",
   "name": "python",
   "nbconvert_exporter": "python",
   "pygments_lexer": "ipython3",
   "version": "3.10.11"
  }
 },
 "nbformat": 4,
 "nbformat_minor": 5
}
